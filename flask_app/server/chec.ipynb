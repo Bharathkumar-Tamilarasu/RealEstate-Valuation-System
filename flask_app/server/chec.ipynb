{
 "cells": [
  {
   "cell_type": "code",
   "execution_count": 1,
   "metadata": {},
   "outputs": [],
   "source": [
    "import pickle\n",
    "import json\n",
    "import os"
   ]
  },
  {
   "cell_type": "code",
   "execution_count": 7,
   "metadata": {},
   "outputs": [],
   "source": [
    "input_path = r\"C:\\Users\\91948\\Downloads\\BKs\\Learning\\Projects\\RealEstate-Valuation-System\\artifacts\\prediction_input.json\"\n",
    "\n",
    "with open(input_path,'rb') as f:\n",
    "    _prediction_input = json.load(f)"
   ]
  },
  {
   "cell_type": "code",
   "execution_count": 10,
   "metadata": {},
   "outputs": [
    {
     "name": "stdout",
     "output_type": "stream",
     "text": [
      "all_columns : ['bath', 'bhk', 'area_sqft', '1st block jayanagar', '1st phase jp nagar']\n",
      "locations : ['1st block jayanagar', '1st phase jp nagar', '2nd phase judicial layout', '2nd stage nagarbhavi', '5th block hbr layout']\n",
      "bhk : [1, 2, 3, 4, 5]\n",
      "bath : [1, 2, 3, 4, 5]\n"
     ]
    }
   ],
   "source": [
    "for i,j in _prediction_input.items():\n",
    "    print(i,':',j[0:5])"
   ]
  }
 ],
 "metadata": {
  "kernelspec": {
   "display_name": "base",
   "language": "python",
   "name": "python3"
  },
  "language_info": {
   "codemirror_mode": {
    "name": "ipython",
    "version": 3
   },
   "file_extension": ".py",
   "mimetype": "text/x-python",
   "name": "python",
   "nbconvert_exporter": "python",
   "pygments_lexer": "ipython3",
   "version": "3.11.5"
  }
 },
 "nbformat": 4,
 "nbformat_minor": 2
}
